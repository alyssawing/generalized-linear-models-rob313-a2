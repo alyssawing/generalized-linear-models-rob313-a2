{
 "cells": [
  {
   "cell_type": "code",
   "execution_count": 1,
   "metadata": {},
   "outputs": [],
   "source": [
    "%matplotlib inline\n",
    "import numpy as np\n",
    "import pandas as pd\n",
    "from sklearn import datasets as skdatasets\n",
    "from sklearn.model_selection import train_test_split\n",
    "from sklearn.preprocessing import OneHotEncoder, StandardScaler\n",
    "from numpy.testing import assert_array_equal\n",
    "import matplotlib.pyplot as plt\n",
    "from data_utils import load_dataset, plot_digit\n",
    "from pdb import set_trace"
   ]
  },
  {
   "cell_type": "code",
   "execution_count": 2,
   "metadata": {},
   "outputs": [],
   "source": [
    "def save_dataset(x_train, x_valid, x_test, y_train, y_valid, y_test, filename):\n",
    "    assert x_train.shape[1] == x_valid.shape[1] == x_test.shape[1]\n",
    "    assert y_train.shape[1] == y_valid.shape[1] == y_test.shape[1]\n",
    "    assert x_train.shape[0] == y_train.shape[0]\n",
    "    assert x_valid.shape[0] == y_valid.shape[0]\n",
    "    assert x_test.shape[0] == y_test.shape[0]\n",
    "    print(\"d = %d\" % x_train.shape[1])\n",
    "    print(\"n_train = %d\" % x_train.shape[0])\n",
    "    print(\"n_valid = %d\" % x_valid.shape[0])\n",
    "    print(\"n_test = %d\" % x_test.shape[0])\n",
    "    np.savez(filename, x_train=x_train, x_valid=x_valid, x_test=x_test, y_train=y_train, y_valid=y_valid, y_test=y_test)\n",
    "\n",
    "def verify_dataset(original, reloaded):\n",
    "    \"\"\" make sure that reloaded data is the same as original \"\"\"\n",
    "    for arr_original, arr_reloaded in zip(original, reloaded):\n",
    "        assert_array_equal(arr_original, arr_reloaded)"
   ]
  },
  {
   "cell_type": "markdown",
   "metadata": {},
   "source": [
    "# Pumadyn32nm"
   ]
  },
  {
   "cell_type": "code",
   "execution_count": 3,
   "metadata": {},
   "outputs": [
    {
     "name": "stdout",
     "output_type": "stream",
     "text": [
      "d = 32\n",
      "n_train = 5733\n",
      "n_valid = 1639\n",
      "n_test = 820\n"
     ]
    }
   ],
   "source": [
    "def process_pumadyn32nm():\n",
    "    x_scaler = StandardScaler()\n",
    "    y_scaler = StandardScaler()\n",
    "    data = np.loadtxt('pumadyn32nm.data')\n",
    "    x = data[:, :32]\n",
    "    y = data[:, -1]\n",
    "    x = x_scaler.fit_transform(x)\n",
    "    y = y_scaler.fit_transform(y.reshape((-1,1)))\n",
    "    x_train, x_test, y_train, y_test = train_test_split(x, y, test_size=0.1, random_state=5, \n",
    "                                                        shuffle=True)\n",
    "    x_train, x_valid, y_train, y_valid = train_test_split(x_train, y_train, test_size=0.2/0.9, random_state=5, \n",
    "                                                          shuffle=True)\n",
    "    save_dataset(x_train, x_valid, x_test, y_train, y_valid, y_test, filename='pumadyn32nm.npz')\n",
    "    verify_dataset(original=(x_train, x_valid, x_test, y_train, y_valid, y_test),\n",
    "                   reloaded=load_dataset('pumadyn32nm'))\n",
    "process_pumadyn32nm()"
   ]
  },
  {
   "cell_type": "markdown",
   "metadata": {},
   "source": [
    "# Iris"
   ]
  },
  {
   "cell_type": "code",
   "execution_count": 4,
   "metadata": {
    "scrolled": false
   },
   "outputs": [
    {
     "name": "stdout",
     "output_type": "stream",
     "text": [
      "d = 4\n",
      "n_train = 104\n",
      "n_valid = 31\n",
      "n_test = 15\n"
     ]
    }
   ],
   "source": [
    "def process_iris():\n",
    "    x_scaler = StandardScaler()\n",
    "    encoder = OneHotEncoder(sparse=False, categories='auto', dtype=bool)\n",
    "    iris = skdatasets.load_iris()\n",
    "    x = iris.data\n",
    "    y = iris.target.reshape((-1,1))\n",
    "    x = x_scaler.fit_transform(x)\n",
    "    y = encoder.fit_transform(y)\n",
    "    x_train, x_test, y_train, y_test = train_test_split(x, y, test_size=0.1, random_state=5, \n",
    "                                                        shuffle=True, stratify=encoder.inverse_transform(y))\n",
    "    x_train, x_valid, y_train, y_valid = train_test_split(x_train, y_train, test_size=0.2/0.9, random_state=5, \n",
    "                                                          shuffle=True, stratify=encoder.inverse_transform(y_train))\n",
    "    save_dataset(x_train, x_valid, x_test, y_train, y_valid, y_test, filename='iris.npz')\n",
    "    verify_dataset(original=(x_train, x_valid, x_test, y_train, y_valid, y_test),\n",
    "                   reloaded=load_dataset('iris'))\n",
    "process_iris()"
   ]
  },
  {
   "cell_type": "markdown",
   "metadata": {},
   "source": [
    "# Boston"
   ]
  },
  {
   "cell_type": "code",
   "execution_count": 5,
   "metadata": {},
   "outputs": [
    {
     "name": "stdout",
     "output_type": "stream",
     "text": [
      "d = 13\n",
      "n_train = 353\n",
      "n_valid = 102\n",
      "n_test = 51\n"
     ]
    }
   ],
   "source": [
    "def process_boston():\n",
    "    x_scaler = StandardScaler()\n",
    "    y_scaler = StandardScaler()\n",
    "    x, y = skdatasets.load_boston(return_X_y=True)\n",
    "    x = x_scaler.fit_transform(x)\n",
    "    y = y_scaler.fit_transform(y.reshape((-1,1)))\n",
    "    x_train, x_test, y_train, y_test = train_test_split(x, y, test_size=0.1, random_state=5, \n",
    "                                                        shuffle=True)\n",
    "    x_train, x_valid, y_train, y_valid = train_test_split(x_train, y_train, test_size=0.2/0.9, random_state=5, \n",
    "                                                          shuffle=True)\n",
    "    save_dataset(x_train, x_valid, x_test, y_train, y_valid, y_test, filename='boston.npz')\n",
    "    verify_dataset(original=(x_train, x_valid, x_test, y_train, y_valid, y_test),\n",
    "                   reloaded=load_dataset('boston'))\n",
    "process_boston()"
   ]
  },
  {
   "cell_type": "markdown",
   "metadata": {},
   "source": [
    "# Mauna Loa"
   ]
  },
  {
   "cell_type": "code",
   "execution_count": 6,
   "metadata": {},
   "outputs": [
    {
     "name": "stdout",
     "output_type": "stream",
     "text": [
      "d = 1\n",
      "n_train = 511\n",
      "n_valid = 145\n",
      "n_test = 73\n"
     ]
    },
    {
     "data": {
      "image/png": "[encoded data removed]",
      "text/plain": [
       "<Figure size 432x288 with 1 Axes>"
      ]
     },
     "metadata": {
      "needs_background": "light"
     },
     "output_type": "display_data"
    }
   ],
   "source": [
    "def process_mauna_loa():\n",
    "    x_scaler = StandardScaler()\n",
    "    y_scaler = StandardScaler()\n",
    "    data = np.loadtxt('mauna_loa_raw.csv', skiprows=72)\n",
    "    x = data[:,(2,)]\n",
    "    y = data[:,(-3,)]\n",
    "    x = x_scaler.fit_transform(x)\n",
    "    y = y_scaler.fit_transform(y)\n",
    "    x_train, x_test, y_train, y_test = train_test_split(x, y, test_size=0.1, random_state=5, \n",
    "                                                        shuffle=False)\n",
    "    x_valid, x_train, y_valid, y_train = train_test_split(x_train, y_train, test_size=1.-0.2/0.9, random_state=5, \n",
    "                                                          shuffle=False)\n",
    "    save_dataset(x_train, x_valid, x_test, y_train, y_valid, y_test, filename='mauna_loa.npz')\n",
    "    verify_dataset(original=(x_train, x_valid, x_test, y_train, y_valid, y_test),\n",
    "                   reloaded=load_dataset('mauna_loa'))\n",
    "    \n",
    "    # plot the data\n",
    "    plt.plot(x_train, y_train, 'b')\n",
    "    plt.plot(x_valid, y_valid, 'r')\n",
    "    plt.plot(x_test, y_test, 'g')\n",
    "process_mauna_loa()"
   ]
  },
  {
   "cell_type": "markdown",
   "metadata": {},
   "source": [
    "# Rosenbrock"
   ]
  },
  {
   "cell_type": "code",
   "execution_count": 7,
   "metadata": {},
   "outputs": [],
   "source": [
    "def process_rosenbrock():\n",
    "    orig100 = load_dataset('rosenbrock', n_train=100, d=2)\n",
    "    new100 = load_dataset('rosenbrock', n_train=100, d=2)\n",
    "    verify_dataset(orig100, new100) # make sure reproducable with same train points\n",
    "    new1000 = load_dataset('rosenbrock', n_train=1000, d=2)\n",
    "    verify_dataset(orig100[1:2], new1000[1:2]) # make sure train/valid splits don't change\n",
    "process_rosenbrock()"
   ]
  },
  {
   "cell_type": "markdown",
   "metadata": {},
   "source": [
    "# MNIST small"
   ]
  },
  {
   "cell_type": "code",
   "execution_count": 8,
   "metadata": {},
   "outputs": [
    {
     "name": "stdout",
     "output_type": "stream",
     "text": [
      "d = 28\n",
      "n_train = 10000\n",
      "n_valid = 1000\n",
      "n_test = 1000\n",
      "[ 987 1124  993 1022  974  904  986 1044  975  991]\n",
      "[ 99 112  99 102  97  90  99 105  98  99]\n",
      "[ 98 114 103 101  98  89  96 103  97 101]\n",
      "digit #2:\n"
     ]
    },
    {
     "data": {
      "image/png": "[encoded data removed]",
      "text/plain": [
       "<Figure size 432x288 with 1 Axes>"
      ]
     },
     "metadata": {
      "needs_background": "light"
     },
     "output_type": "display_data"
    }
   ],
   "source": [
    "import tensorflow as tf\n",
    "mnist = tf.keras.datasets.mnist\n",
    "\n",
    "def process_mnist_small():\n",
    "    (x_train, y_train),(x_test, y_test) = mnist.load_data() # download the data\n",
    "\n",
    "    encoder = OneHotEncoder(sparse=False, categories='auto', dtype=bool)\n",
    "    # one-hot encode the responses\n",
    "    y_train = encoder.fit_transform(y_train.reshape((-1,1)))\n",
    "    y_test  = encoder.transform(y_test.reshape((-1,1)))\n",
    "    # get the validation set and reduce size of training set\n",
    "    x_train, x_valid, y_train, y_valid = train_test_split(x_train, y_train, test_size=1000, train_size=10000, \n",
    "                                            random_state=5, shuffle=True, stratify=encoder.inverse_transform(y_train))\n",
    "    # reduce the size of the testing set\n",
    "    _, x_test, _, y_test = train_test_split(x_test, y_test, train_size=9000, test_size=1000, random_state=5, \n",
    "                                            shuffle=True, stratify=encoder.inverse_transform(y_test))\n",
    "    # save the dataset and verify\n",
    "    save_dataset(x_train, x_valid, x_test, y_train, y_valid, y_test, filename='mnist_small.npz')\n",
    "    (x_train, x_valid, x_test, y_train, y_valid, y_test) = load_dataset('mnist_small')\n",
    "    # print the class counts in each split\n",
    "    print(y_train.sum(axis=0))\n",
    "    print(y_valid.sum(axis=0))\n",
    "    print(y_test.sum(axis=0))\n",
    "    # plot a digit\n",
    "    plot_digit(x_train[4])\n",
    "    print('digit #%d:' % np.where(y_train[4])[0][0])\n",
    "process_mnist_small()"
   ]
  }
 ],
 "metadata": {
  "kernelspec": {
   "display_name": "Python 3",
   "language": "python",
   "name": "python3"
  },
  "language_info": {
   "codemirror_mode": {
    "name": "ipython",
    "version": 3
   },
   "file_extension": ".py",
   "mimetype": "text/x-python",
   "name": "python",
   "nbconvert_exporter": "python",
   "pygments_lexer": "ipython3",
   "version": "3.6.8"
  }
 },
 "nbformat": 4,
 "nbformat_minor": 2
}
